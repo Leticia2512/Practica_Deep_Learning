{
 "cells": [
  {
   "cell_type": "code",
   "execution_count": 2,
   "id": "0726cb8b",
   "metadata": {},
   "outputs": [
    {
     "name": "stdout",
     "output_type": "stream",
     "text": [
      "Defaulting to user installation because normal site-packages is not writeable\n",
      "Requirement already satisfied: torch in /Users/leticm03/Library/Python/3.12/lib/python/site-packages (2.2.2)\n",
      "Requirement already satisfied: torchvision in /Users/leticm03/Library/Python/3.12/lib/python/site-packages (0.17.2)\n",
      "Requirement already satisfied: filelock in /Users/leticm03/Library/Python/3.12/lib/python/site-packages (from torch) (3.18.0)\n",
      "Requirement already satisfied: typing-extensions>=4.8.0 in /Users/leticm03/Library/Python/3.12/lib/python/site-packages (from torch) (4.12.2)\n",
      "Requirement already satisfied: sympy in /Users/leticm03/Library/Python/3.12/lib/python/site-packages (from torch) (1.14.0)\n",
      "Requirement already satisfied: networkx in /Users/leticm03/Library/Python/3.12/lib/python/site-packages (from torch) (3.4.2)\n",
      "Requirement already satisfied: jinja2 in /Users/leticm03/Library/Python/3.12/lib/python/site-packages (from torch) (3.1.4)\n",
      "Requirement already satisfied: fsspec in /Users/leticm03/Library/Python/3.12/lib/python/site-packages (from torch) (2025.5.0)\n",
      "Requirement already satisfied: numpy in /Users/leticm03/Library/Python/3.12/lib/python/site-packages (from torchvision) (2.2.6)\n",
      "Requirement already satisfied: pillow!=8.3.*,>=5.3.0 in /Users/leticm03/Library/Python/3.12/lib/python/site-packages (from torchvision) (11.0.0)\n",
      "Requirement already satisfied: MarkupSafe>=2.0 in /Users/leticm03/Library/Python/3.12/lib/python/site-packages (from jinja2->torch) (2.1.5)\n",
      "Requirement already satisfied: mpmath<1.4,>=1.1.0 in /Users/leticm03/Library/Python/3.12/lib/python/site-packages (from sympy->torch) (1.3.0)\n"
     ]
    }
   ],
   "source": [
    "!pip install torch torchvision\n"
   ]
  }
 ],
 "metadata": {
  "kernelspec": {
   "display_name": "Python 3",
   "language": "python",
   "name": "python3"
  },
  "language_info": {
   "codemirror_mode": {
    "name": "ipython",
    "version": 3
   },
   "file_extension": ".py",
   "mimetype": "text/x-python",
   "name": "python",
   "nbconvert_exporter": "python",
   "pygments_lexer": "ipython3",
   "version": "3.12.6"
  }
 },
 "nbformat": 4,
 "nbformat_minor": 5
}
